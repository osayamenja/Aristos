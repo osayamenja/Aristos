{
 "cells": [
  {
   "cell_type": "code",
   "id": "initial_id",
   "metadata": {
    "collapsed": true,
    "ExecuteTime": {
     "end_time": "2024-04-28T20:18:41.367808Z",
     "start_time": "2024-04-28T20:18:41.364875Z"
    }
   },
   "source": [
    "from main import Group, grigora2, Worker, expert_parallel_group_objective_function, all_reduce_function, gamma_function\n",
    "import numpy as np"
   ],
   "outputs": [],
   "execution_count": 3
  },
  {
   "metadata": {
    "ExecuteTime": {
     "end_time": "2024-04-28T21:53:36.605762Z",
     "start_time": "2024-04-28T21:53:36.598719Z"
    }
   },
   "cell_type": "code",
   "source": [
    "adjacency = np.array([[(None, None), (0, 1), (0, 2), (None, None), (None, None), (None, None)],\n",
    "                          [(0, 1), (None, None), (None, None), (0, 3), (None, None), (None, None)],\n",
    "                          [(0, 2), (None, None), (None, None), (None, None), (0, 5), (None, None)],\n",
    "                          [(None, None), (0, 3), (None, None), (None, None), (None, None), (0, 2)],\n",
    "                          [(None, None), (None, None), (0, 5), (None, None), (None, None), (0, 2)],\n",
    "                          [(None, None), (None, None), (None, None), (0, 2), (0, 2), (None, None)]])\n",
    "\n",
    "w = []\n",
    "for ii in range(adjacency.shape[0]):\n",
    "    w.append(Worker(ii, 1, 12))\n",
    "n_exp = 12\n",
    "exp = []\n",
    "for ii in range(n_exp):\n",
    "    exp.append(1)\n",
    "p2p_buf = 1\n",
    "p2p_fr = 4\n",
    "all_r_buf = 1\n",
    "gamma_arguments = {Group.NUM_LAYERS: 4,\n",
    "                   Group.GLOBAL_BATCH_SIZE: 4,\n",
    "                   Group.MINI_BATCH_SIZE: 2,\n",
    "                   Group.MOE_FREQUENCY: 2,\n",
    "                   Group.RECOMPUTATION_AMOUNT: 1}"
   ],
   "id": "2a9b94323bee946c",
   "outputs": [],
   "execution_count": 71
  },
  {
   "metadata": {
    "ExecuteTime": {
     "end_time": "2024-04-28T21:53:37.793179Z",
     "start_time": "2024-04-28T21:53:37.788888Z"
    }
   },
   "cell_type": "code",
   "source": [
    "print(grigora2(a=adjacency,\n",
    "                   obj=expert_parallel_group_objective_function,\n",
    "                   all_reduce_func=all_reduce_function,\n",
    "                   gamma=gamma_function,\n",
    "                   p2p_buffer_size=p2p_buf,\n",
    "                   p2p_freq=p2p_fr,\n",
    "                   all_reduce_buffer_size=all_r_buf,\n",
    "                   workers=w,\n",
    "                   expert_workload=exp,\n",
    "                   gamma_args=gamma_arguments).subsets())"
   ],
   "id": "8aad4e0d2fff4563",
   "outputs": [
    {
     "name": "stdout",
     "output_type": "stream",
     "text": [
      "[{0, 1}, {2}, {3}, {4}, {5}]\n"
     ]
    }
   ],
   "execution_count": 72
  },
  {
   "metadata": {
    "ExecuteTime": {
     "end_time": "2024-04-28T23:51:15.336448Z",
     "start_time": "2024-04-28T23:51:15.317168Z"
    }
   },
   "cell_type": "code",
   "source": [
    "from sklearn.cluster import SpectralClustering\n",
    "adjacency = np.array([[0, 2, 2, 0, 0, 0],\n",
    "                          [1, 0, 0, 3, 0, 0],\n",
    "                          [2, 0, 0, 0, 5, 0],\n",
    "                          [0, 3, 0, 0, 0, 2],\n",
    "                          [0, 0, 5, 0, 0, 2],\n",
    "                          [0, 0, 0, 2, 2, 0]])\n",
    "delta = 1\n",
    "k_adj = np.exp(- adjacency ** 2 / (2. * delta ** 2))\n",
    "sc = SpectralClustering(5, n_neighbors=2, affinity='precomputed_nearest_neighbors', assign_labels='cluster_qr')\n",
    "print(sc.fit_predict(k_adj))\n",
    "#verbose=True, eigen_solver='amg'"
   ],
   "id": "947abf357e7b3bfc",
   "outputs": [
    {
     "name": "stdout",
     "output_type": "stream",
     "text": [
      "[2 1 0 3 0 4]\n"
     ]
    }
   ],
   "execution_count": 78
  }
 ],
 "metadata": {
  "kernelspec": {
   "display_name": "Python 3",
   "language": "python",
   "name": "python3"
  },
  "language_info": {
   "codemirror_mode": {
    "name": "ipython",
    "version": 2
   },
   "file_extension": ".py",
   "mimetype": "text/x-python",
   "name": "python",
   "nbconvert_exporter": "python",
   "pygments_lexer": "ipython2",
   "version": "2.7.6"
  }
 },
 "nbformat": 4,
 "nbformat_minor": 5
}
